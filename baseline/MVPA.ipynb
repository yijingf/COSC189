{
 "cells": [
  {
   "cell_type": "code",
   "execution_count": 1,
   "metadata": {},
   "outputs": [],
   "source": [
    "import pandas as pd"
   ]
  },
  {
   "cell_type": "code",
   "execution_count": 2,
   "metadata": {},
   "outputs": [],
   "source": [
    "import numpy as np\n",
    "from sklearn.pipeline import make_pipeline\n",
    "from sklearn.preprocessing import StandardScaler\n",
    "from sklearn.svm import SVC\n",
    "\n",
    "from config import info_dir"
   ]
  },
  {
   "cell_type": "markdown",
   "metadata": {},
   "source": [
    "# Load Training Data"
   ]
  },
  {
   "cell_type": "code",
   "execution_count": 3,
   "metadata": {},
   "outputs": [],
   "source": [
    "info = pd.read_csv(info_dir)"
   ]
  },
  {
   "cell_type": "code",
   "execution_count": 12,
   "metadata": {},
   "outputs": [],
   "source": [
    "info['run_index'] = np.array([list(range(25)) for _ in range(156)]).flatten()\n",
    "info['ind'] = np.array([list(range(25)) for _ in range(156)]).flatten() + (info['run']-1)*25"
   ]
  },
  {
   "cell_type": "code",
   "execution_count": 34,
   "metadata": {},
   "outputs": [],
   "source": [
    "leave_out = 'sub_out'\n",
    "train_X = []\n",
    "train_y = [] \n",
    "for sub_id in range(1,21):\n",
    "    data = np.load('./data/feat_sub{:03d}.npy'.format(sub_id))\n",
    "    train_ind = info.loc[(info['sub'] == sub_id) & (info[leave_out] == 'train'), 'ind']\n",
    "    train_label = info.loc[(info['sub'] == sub_id) & (info[leave_out] == 'train'), 'label']\n",
    "    train_X.append(data[train_ind])\n",
    "    train_y.append(train_label)"
   ]
  },
  {
   "cell_type": "code",
   "execution_count": 35,
   "metadata": {},
   "outputs": [],
   "source": [
    "train_X = np.concatenate(train_X)\n",
    "train_y = np.concatenate(train_y)"
   ]
  },
  {
   "cell_type": "markdown",
   "metadata": {},
   "source": [
    "# Load Test Data"
   ]
  },
  {
   "cell_type": "code",
   "execution_count": 37,
   "metadata": {},
   "outputs": [],
   "source": [
    "test_X = []\n",
    "test_y = [] \n",
    "for sub_id in range(1,21):\n",
    "    data = np.load('./data/feat_sub{:03d}.npy'.format(sub_id))\n",
    "    test_ind = info.loc[(info['sub'] == sub_id) & (info[leave_out] == 'test'), 'ind']\n",
    "    test_label = info.loc[(info['sub'] == sub_id) & (info[leave_out] == 'test'), 'label']\n",
    "    test_X.append(data[test_ind])\n",
    "    test_y.append(test_label)\n",
    "\n",
    "test_X = np.concatenate(test_X)\n",
    "test_y = np.concatenate(test_y)"
   ]
  },
  {
   "cell_type": "markdown",
   "metadata": {},
   "source": [
    "# SVM Train and Test"
   ]
  },
  {
   "cell_type": "code",
   "execution_count": 36,
   "metadata": {},
   "outputs": [
    {
     "data": {
      "text/plain": [
       "Pipeline(steps=[('standardscaler', StandardScaler()),\n",
       "                ('svc', SVC(gamma='auto'))])"
      ]
     },
     "execution_count": 36,
     "metadata": {},
     "output_type": "execute_result"
    }
   ],
   "source": [
    "clf = make_pipeline(StandardScaler(), SVC(gamma='auto'))\n",
    "clf.fit(train_X, train_y)"
   ]
  },
  {
   "cell_type": "code",
   "execution_count": 39,
   "metadata": {},
   "outputs": [],
   "source": [
    "pred_y = clf.predict(test_X)"
   ]
  },
  {
   "cell_type": "markdown",
   "metadata": {},
   "source": [
    "# Prediction Acc"
   ]
  },
  {
   "cell_type": "code",
   "execution_count": 47,
   "metadata": {},
   "outputs": [
    {
     "data": {
      "text/plain": [
       "0.19428571428571428"
      ]
     },
     "execution_count": 47,
     "metadata": {},
     "output_type": "execute_result"
    }
   ],
   "source": [
    "np.sum(pred_y == test_y)/len(test_y)"
   ]
  }
 ],
 "metadata": {
  "kernelspec": {
   "display_name": "Python 3",
   "language": "python",
   "name": "python3"
  },
  "language_info": {
   "codemirror_mode": {
    "name": "ipython",
    "version": 3
   },
   "file_extension": ".py",
   "mimetype": "text/x-python",
   "name": "python",
   "nbconvert_exporter": "python",
   "pygments_lexer": "ipython3",
   "version": "3.6.8"
  }
 },
 "nbformat": 4,
 "nbformat_minor": 4
}
